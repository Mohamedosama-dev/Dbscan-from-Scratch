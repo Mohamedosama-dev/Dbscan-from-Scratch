{
  "nbformat": 4,
  "nbformat_minor": 0,
  "metadata": {
    "colab": {
      "provenance": []
    },
    "kernelspec": {
      "name": "python3",
      "display_name": "Python 3"
    },
    "language_info": {
      "name": "python"
    }
  },
  "cells": [
    {
      "cell_type": "code",
      "execution_count": 28,
      "metadata": {
        "id": "KgAYdFPnAqJj"
      },
      "outputs": [],
      "source": [
        "import numpy as np\n",
        "import matplotlib.pyplot as plt\n",
        "from sklearn.metrics import adjusted_rand_score\n",
        "import pandas as pd\n",
        "from sklearn.model_selection import train_test_split"
      ]
    },
    {
      "cell_type": "code",
      "source": [
        "# load the Pima Indians Diabetes dataset\n",
        "data = pd.read_csv('/content/IRIS.csv')\n",
        "data.head(10)"
      ],
      "metadata": {
        "colab": {
          "base_uri": "https://localhost:8080/",
          "height": 363
        },
        "id": "OKL-ohyCm7Vr",
        "outputId": "c0b90dc0-d2b6-484f-f9a9-f7c0f0d79d5c"
      },
      "execution_count": 29,
      "outputs": [
        {
          "output_type": "execute_result",
          "data": {
            "text/plain": [
              "   sepal_length  sepal_width  petal_length  petal_width      species\n",
              "0           5.1          3.5           1.4          0.2  Iris-setosa\n",
              "1           4.9          3.0           1.4          0.2  Iris-setosa\n",
              "2           4.7          3.2           1.3          0.2  Iris-setosa\n",
              "3           4.6          3.1           1.5          0.2  Iris-setosa\n",
              "4           5.0          3.6           1.4          0.2  Iris-setosa\n",
              "5           5.4          3.9           1.7          0.4  Iris-setosa\n",
              "6           4.6          3.4           1.4          0.3  Iris-setosa\n",
              "7           5.0          3.4           1.5          0.2  Iris-setosa\n",
              "8           4.4          2.9           1.4          0.2  Iris-setosa\n",
              "9           4.9          3.1           1.5          0.1  Iris-setosa"
            ],
            "text/html": [
              "\n",
              "  <div id=\"df-48dd9057-0c1f-4851-926f-4a09b5fa47bb\">\n",
              "    <div class=\"colab-df-container\">\n",
              "      <div>\n",
              "<style scoped>\n",
              "    .dataframe tbody tr th:only-of-type {\n",
              "        vertical-align: middle;\n",
              "    }\n",
              "\n",
              "    .dataframe tbody tr th {\n",
              "        vertical-align: top;\n",
              "    }\n",
              "\n",
              "    .dataframe thead th {\n",
              "        text-align: right;\n",
              "    }\n",
              "</style>\n",
              "<table border=\"1\" class=\"dataframe\">\n",
              "  <thead>\n",
              "    <tr style=\"text-align: right;\">\n",
              "      <th></th>\n",
              "      <th>sepal_length</th>\n",
              "      <th>sepal_width</th>\n",
              "      <th>petal_length</th>\n",
              "      <th>petal_width</th>\n",
              "      <th>species</th>\n",
              "    </tr>\n",
              "  </thead>\n",
              "  <tbody>\n",
              "    <tr>\n",
              "      <th>0</th>\n",
              "      <td>5.1</td>\n",
              "      <td>3.5</td>\n",
              "      <td>1.4</td>\n",
              "      <td>0.2</td>\n",
              "      <td>Iris-setosa</td>\n",
              "    </tr>\n",
              "    <tr>\n",
              "      <th>1</th>\n",
              "      <td>4.9</td>\n",
              "      <td>3.0</td>\n",
              "      <td>1.4</td>\n",
              "      <td>0.2</td>\n",
              "      <td>Iris-setosa</td>\n",
              "    </tr>\n",
              "    <tr>\n",
              "      <th>2</th>\n",
              "      <td>4.7</td>\n",
              "      <td>3.2</td>\n",
              "      <td>1.3</td>\n",
              "      <td>0.2</td>\n",
              "      <td>Iris-setosa</td>\n",
              "    </tr>\n",
              "    <tr>\n",
              "      <th>3</th>\n",
              "      <td>4.6</td>\n",
              "      <td>3.1</td>\n",
              "      <td>1.5</td>\n",
              "      <td>0.2</td>\n",
              "      <td>Iris-setosa</td>\n",
              "    </tr>\n",
              "    <tr>\n",
              "      <th>4</th>\n",
              "      <td>5.0</td>\n",
              "      <td>3.6</td>\n",
              "      <td>1.4</td>\n",
              "      <td>0.2</td>\n",
              "      <td>Iris-setosa</td>\n",
              "    </tr>\n",
              "    <tr>\n",
              "      <th>5</th>\n",
              "      <td>5.4</td>\n",
              "      <td>3.9</td>\n",
              "      <td>1.7</td>\n",
              "      <td>0.4</td>\n",
              "      <td>Iris-setosa</td>\n",
              "    </tr>\n",
              "    <tr>\n",
              "      <th>6</th>\n",
              "      <td>4.6</td>\n",
              "      <td>3.4</td>\n",
              "      <td>1.4</td>\n",
              "      <td>0.3</td>\n",
              "      <td>Iris-setosa</td>\n",
              "    </tr>\n",
              "    <tr>\n",
              "      <th>7</th>\n",
              "      <td>5.0</td>\n",
              "      <td>3.4</td>\n",
              "      <td>1.5</td>\n",
              "      <td>0.2</td>\n",
              "      <td>Iris-setosa</td>\n",
              "    </tr>\n",
              "    <tr>\n",
              "      <th>8</th>\n",
              "      <td>4.4</td>\n",
              "      <td>2.9</td>\n",
              "      <td>1.4</td>\n",
              "      <td>0.2</td>\n",
              "      <td>Iris-setosa</td>\n",
              "    </tr>\n",
              "    <tr>\n",
              "      <th>9</th>\n",
              "      <td>4.9</td>\n",
              "      <td>3.1</td>\n",
              "      <td>1.5</td>\n",
              "      <td>0.1</td>\n",
              "      <td>Iris-setosa</td>\n",
              "    </tr>\n",
              "  </tbody>\n",
              "</table>\n",
              "</div>\n",
              "      <button class=\"colab-df-convert\" onclick=\"convertToInteractive('df-48dd9057-0c1f-4851-926f-4a09b5fa47bb')\"\n",
              "              title=\"Convert this dataframe to an interactive table.\"\n",
              "              style=\"display:none;\">\n",
              "        \n",
              "  <svg xmlns=\"http://www.w3.org/2000/svg\" height=\"24px\"viewBox=\"0 0 24 24\"\n",
              "       width=\"24px\">\n",
              "    <path d=\"M0 0h24v24H0V0z\" fill=\"none\"/>\n",
              "    <path d=\"M18.56 5.44l.94 2.06.94-2.06 2.06-.94-2.06-.94-.94-2.06-.94 2.06-2.06.94zm-11 1L8.5 8.5l.94-2.06 2.06-.94-2.06-.94L8.5 2.5l-.94 2.06-2.06.94zm10 10l.94 2.06.94-2.06 2.06-.94-2.06-.94-.94-2.06-.94 2.06-2.06.94z\"/><path d=\"M17.41 7.96l-1.37-1.37c-.4-.4-.92-.59-1.43-.59-.52 0-1.04.2-1.43.59L10.3 9.45l-7.72 7.72c-.78.78-.78 2.05 0 2.83L4 21.41c.39.39.9.59 1.41.59.51 0 1.02-.2 1.41-.59l7.78-7.78 2.81-2.81c.8-.78.8-2.07 0-2.86zM5.41 20L4 18.59l7.72-7.72 1.47 1.35L5.41 20z\"/>\n",
              "  </svg>\n",
              "      </button>\n",
              "      \n",
              "  <style>\n",
              "    .colab-df-container {\n",
              "      display:flex;\n",
              "      flex-wrap:wrap;\n",
              "      gap: 12px;\n",
              "    }\n",
              "\n",
              "    .colab-df-convert {\n",
              "      background-color: #E8F0FE;\n",
              "      border: none;\n",
              "      border-radius: 50%;\n",
              "      cursor: pointer;\n",
              "      display: none;\n",
              "      fill: #1967D2;\n",
              "      height: 32px;\n",
              "      padding: 0 0 0 0;\n",
              "      width: 32px;\n",
              "    }\n",
              "\n",
              "    .colab-df-convert:hover {\n",
              "      background-color: #E2EBFA;\n",
              "      box-shadow: 0px 1px 2px rgba(60, 64, 67, 0.3), 0px 1px 3px 1px rgba(60, 64, 67, 0.15);\n",
              "      fill: #174EA6;\n",
              "    }\n",
              "\n",
              "    [theme=dark] .colab-df-convert {\n",
              "      background-color: #3B4455;\n",
              "      fill: #D2E3FC;\n",
              "    }\n",
              "\n",
              "    [theme=dark] .colab-df-convert:hover {\n",
              "      background-color: #434B5C;\n",
              "      box-shadow: 0px 1px 3px 1px rgba(0, 0, 0, 0.15);\n",
              "      filter: drop-shadow(0px 1px 2px rgba(0, 0, 0, 0.3));\n",
              "      fill: #FFFFFF;\n",
              "    }\n",
              "  </style>\n",
              "\n",
              "      <script>\n",
              "        const buttonEl =\n",
              "          document.querySelector('#df-48dd9057-0c1f-4851-926f-4a09b5fa47bb button.colab-df-convert');\n",
              "        buttonEl.style.display =\n",
              "          google.colab.kernel.accessAllowed ? 'block' : 'none';\n",
              "\n",
              "        async function convertToInteractive(key) {\n",
              "          const element = document.querySelector('#df-48dd9057-0c1f-4851-926f-4a09b5fa47bb');\n",
              "          const dataTable =\n",
              "            await google.colab.kernel.invokeFunction('convertToInteractive',\n",
              "                                                     [key], {});\n",
              "          if (!dataTable) return;\n",
              "\n",
              "          const docLinkHtml = 'Like what you see? Visit the ' +\n",
              "            '<a target=\"_blank\" href=https://colab.research.google.com/notebooks/data_table.ipynb>data table notebook</a>'\n",
              "            + ' to learn more about interactive tables.';\n",
              "          element.innerHTML = '';\n",
              "          dataTable['output_type'] = 'display_data';\n",
              "          await google.colab.output.renderOutput(dataTable, element);\n",
              "          const docLink = document.createElement('div');\n",
              "          docLink.innerHTML = docLinkHtml;\n",
              "          element.appendChild(docLink);\n",
              "        }\n",
              "      </script>\n",
              "    </div>\n",
              "  </div>\n",
              "  "
            ]
          },
          "metadata": {},
          "execution_count": 29
        }
      ]
    },
    {
      "cell_type": "code",
      "source": [
        "# separate the features (X) and targets (y)\n",
        "X = data.drop('species', axis=1).values\n",
        "y = data['species'].values"
      ],
      "metadata": {
        "id": "0kG-RYnYCWJw"
      },
      "execution_count": 30,
      "outputs": []
    },
    {
      "cell_type": "code",
      "source": [
        "# Define PCA function\n",
        "def pca(X, k=2):\n",
        "    # Compute the mean of the data along each feature dimension\n",
        "    mean = np.mean(X, axis=0)\n",
        "    \n",
        "    # Center the data\n",
        "    X_centered = X - mean\n",
        "    \n",
        "    # Compute the covariance matrix of the data\n",
        "    cov = np.cov(X_centered.T)\n",
        "    \n",
        "    # Compute the eigenvectors and eigenvalues of the covariance matrix\n",
        "    eigenvalues, eigenvectors = np.linalg.eig(cov)\n",
        "    \n",
        "    # Sort the eigenvectorsin descending order of their corresponding eigenvalues\n",
        "    idx = eigenvalues.argsort()[::-1]\n",
        "    eigenvectors = eigenvectors[:,idx]\n",
        "    \n",
        "    # Select the top k eigenvectors to be used as the principal components\n",
        "    principal_components = eigenvectors[:, :k]\n",
        "    \n",
        "    # Transform the data by multiplying it with the selected eigenvectors\n",
        "    X_pca = np.dot(X_centered, principal_components)\n",
        "    \n",
        "    return X_pca\n"
      ],
      "metadata": {
        "id": "dHrG1g-xGgbb"
      },
      "execution_count": 31,
      "outputs": []
    },
    {
      "cell_type": "code",
      "source": [
        "# Apply PCA to the IRIS dataset\n",
        "X_pca = pca(X)"
      ],
      "metadata": {
        "id": "-88Yq-KBG5J0"
      },
      "execution_count": 32,
      "outputs": []
    },
    {
      "cell_type": "code",
      "source": [
        "# Define DBSCAN function\n",
        "def dbscan(X_pca, eps, min_samples):\n",
        "    # Initialize labels to -1 (unassigned)\n",
        "    labels = np.full(X.shape[0], -1)\n",
        "    \n",
        "    # Initialize cluster index to 0\n",
        "    cluster_idx = 0\n",
        "    \n",
        "    # Initialize core points, border points, and noise points\n",
        "    core_points = np.zeros(X.shape[0], dtype=bool)\n",
        "    border_points = np.zeros(X.shape[0], dtype=bool)\n",
        "    noise_points = np.zeros(X.shape[0], dtype=bool)\n",
        "    \n",
        "    # Initialize dictionary to keep track of cluster sizes\n",
        "    cluster_sizes = {}\n",
        "    \n",
        "    # Iterate over each point\n",
        "    for i in range(X.shape[0]):\n",
        "        # If the point has already been assigned to a cluster, skip it\n",
        "        if labels[i] != -1:\n",
        "            continue\n",
        "\n",
        "        # Find all points within eps distance of the current point\n",
        "        neighbors = []\n",
        "        for j in range(X.shape[0]):\n",
        "            if np.linalg.norm(X[j] - X[i]) < eps:\n",
        "                neighbors.append(j)\n",
        "\n",
        "        # If the number of neighbors is less than min_samples, assign the point as noise\n",
        "        if len(neighbors) < min_samples:\n",
        "\n",
        "            labels[i] = -2\n",
        "            noise_points[i] = True\n",
        "            continue\n",
        "\n",
        "        # Assign the current point to the current cluster and mark it as a core point\n",
        "        labels[i] = cluster_idx\n",
        "        core_points[i] = True\n",
        "\n",
        "        # Add the current point to the cluster size count\n",
        "        if cluster_idx not in cluster_sizes:\n",
        "            cluster_sizes[cluster_idx] = 1\n",
        "        else:\n",
        "            cluster_sizes[cluster_idx] += 1\n",
        "\n",
        "        # Expand the cluster by finding all reachable points within eps distance of the current point\n",
        "        j = 0\n",
        "        while j < len(neighbors):\n",
        "            neighbor_idx = neighbors[j]\n",
        "            \n",
        "            if labels[neighbor_idx] == -2:\n",
        "                labels[neighbor_idx] = cluster_idx\n",
        "                noise_points[neighbor_idx] = True\n",
        "            \n",
        "            elif labels[neighbor_idx] == -1:\n",
        "                labels[neighbor_idx] = cluster_idx\n",
        "                new_neighbors = []\n",
        "                for k in range(X.shape[0]):\n",
        "                    if np.linalg.norm(X[k] - X[neighbor_idx]) < eps:\n",
        "                        new_neighbors.append(k)\n",
        "        \n",
        "                \n",
        "                if len(new_neighbors) >= min_samples:\n",
        "                    neighbors += new_neighbors\n",
        "                    if not core_points[neighbor_idx]:\n",
        "                        core_points[neighbor_idx] = True\n",
        "                        border_points[neighbor_idx] = False\n",
        "                else:\n",
        "                    border_points[neighbor_idx] = True\n",
        "\n",
        "\n",
        "                    # Add the new point to the cluster size count\n",
        "                    cluster_sizes[cluster_idx] += 1\n",
        "\n",
        "            j += 1\n",
        "        \n",
        "        # Increment the cluster index\n",
        "        cluster_idx += 1\n",
        "    \n",
        "    # Print the indices of core points, border points, and noise points\n",
        "    core_indices = np.where(core_points)[0]\n",
        "    border_indices = np.where(border_points)[0]\n",
        "    noise_indices = np.where(noise_points)[0]\n",
        "    print('Indices of core points:', core_indices)\n",
        "    print(\"*************************************************\")\n",
        "    print('Indices of border points:', border_indices)\n",
        "    print(\"*************************************************\")\n",
        "    print('Indices of noise points:', noise_indices)\n",
        "    print(\"*************************************************\")\n",
        "    n_core_points = np.sum(core_points)\n",
        "    n_border_points = np.sum(border_points)\n",
        "    n_noise_points = np.sum(noise_points)\n",
        "    print(\"*************************************************\")\n",
        "    print('Number of core points:', n_core_points)\n",
        "    print('Number of border points:', n_border_points)\n",
        "    print('Number of noise points:', n_noise_points)\n",
        "    \n",
        "    # Print the size of each cluster\n",
        "    print(\"*************************************************\")\n",
        "    print(\"Cluster sizes:\")\n",
        "    for idx, size in cluster_sizes.items():\n",
        "        print(f\"Cluster {idx}: {size} points\")\n",
        "    \n",
        "    return labels, core_points, border_points, noise_points"
      ],
      "metadata": {
        "id": "iYPBY2rPCWQC"
      },
      "execution_count": 33,
      "outputs": []
    },
    {
      "cell_type": "code",
      "source": [
        "# Perform DBSCAN clustering\n",
        "eps = 0.6\n",
        "min_samples =4\n",
        "labels, core_points, border_points, noise_points = dbscan(X_pca , eps, min_samples)"
      ],
      "metadata": {
        "colab": {
          "base_uri": "https://localhost:8080/"
        },
        "id": "qQwIH1J3CWdi",
        "outputId": "3bfe8d31-39e6-4ba0-9baf-2a64f207663c"
      },
      "execution_count": 34,
      "outputs": [
        {
          "output_type": "stream",
          "name": "stdout",
          "text": [
            "Indices of core points: [  0   1   2   3   4   5   6   7   8   9  10  11  12  13  14  16  17  18\n",
            "  19  20  21  22  23  24  25  26  27  28  29  30  31  32  33  34  35  36\n",
            "  37  38  39  40  42  43  44  45  46  47  48  49  50  51  52  53  54  55\n",
            "  56  57  58  59  61  62  63  64  65  66  67  68  69  70  71  72  73  74\n",
            "  75  76  77  78  79  80  81  82  83  84  85  86  87  88  89  90  91  92\n",
            "  93  94  95  96  97  99 100 101 102 103 104 105 107 110 111 112 113 114\n",
            " 115 116 119 120 121 123 124 125 126 127 128 129 130 132 133 134 136 137\n",
            " 138 139 140 141 142 143 144 145 146 147 148 149]\n",
            "*************************************************\n",
            "Indices of border points: [ 15  60  98 108 118 122 135]\n",
            "*************************************************\n",
            "Indices of noise points: [ 41 106 109 117 131]\n",
            "*************************************************\n",
            "*************************************************\n",
            "Number of core points: 138\n",
            "Number of border points: 7\n",
            "Number of noise points: 5\n",
            "*************************************************\n",
            "Cluster sizes:\n",
            "Cluster 0: 2 points\n",
            "Cluster 1: 5 points\n",
            "Cluster 2: 3 points\n"
          ]
        }
      ]
    },
    {
      "cell_type": "code",
      "source": [
        "# Plot the results\n",
        "plt.scatter(X[core_points, 0], X[core_points, 1], c=labels[core_points], marker='o')\n",
        "plt.scatter(X[border_points, 0], X[border_points, 1], c=labels[border_points], marker='s')\n",
        "plt.scatter(X[noise_points, 0], X[noise_points, 1], c='gray', marker='x')\n",
        "plt.xlabel('Sepal length')\n",
        "plt.ylabel('Sepal width')\n",
        "plt.legend(['Core points', 'Border points', 'Noise points'])\n",
        "plt.show()"
      ],
      "metadata": {
        "colab": {
          "base_uri": "https://localhost:8080/",
          "height": 452
        },
        "id": "ZMbD7FhuCWgT",
        "outputId": "8c35dfc5-b285-4042-eddb-7f8da5e3253c"
      },
      "execution_count": 35,
      "outputs": [
        {
          "output_type": "display_data",
          "data": {
            "text/plain": [
              "<Figure size 640x480 with 1 Axes>"
            ],
            "image/png": "[encoded data removed]"
          },
          "metadata": {}
        }
      ]
    },
    {
      "cell_type": "code",
      "source": [
        "# Calculate ARI\n",
        "Accuracy = adjusted_rand_score(y, labels)"
      ],
      "metadata": {
        "id": "9wL3Wx0pAqq9"
      },
      "execution_count": 36,
      "outputs": []
    },
    {
      "cell_type": "code",
      "source": [
        "print(\"Accuracy\",Accuracy)"
      ],
      "metadata": {
        "colab": {
          "base_uri": "https://localhost:8080/"
        },
        "id": "-4qmSWcZr-N3",
        "outputId": "fec6884c-61be-4fae-d5a1-cc7493fc95d4"
      },
      "execution_count": 13,
      "outputs": [
        {
          "output_type": "stream",
          "name": "stdout",
          "text": [
            "Accuracy 0.7981159420289855\n"
          ]
        }
      ]
    },
    {
      "cell_type": "code",
      "source": [],
      "metadata": {
        "id": "14FjdbO-gHrp"
      },
      "execution_count": 25,
      "outputs": []
    }
  ]
}